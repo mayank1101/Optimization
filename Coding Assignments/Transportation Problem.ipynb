{
 "cells": [
  {
   "cell_type": "markdown",
   "metadata": {},
   "source": [
    "# Transportation Problem Assignment \n",
    "\n",
    "### Mayank Sharama (201916006) \n",
    "### Surya Mallikarjuna Shivaji (201916014)"
   ]
  },
  {
   "cell_type": "markdown",
   "metadata": {},
   "source": [
    "### Transportation Problem Table Visualization\n",
    "\n",
    "\n",
    "<table style=\"width:100%\">\n",
    "<tr>\n",
    "<th></th>\n",
    "<th>Lucknow</th>\n",
    "<th>Gandhinagar</th>\n",
    "<th>Bhopal</th>\n",
    "<th>Hyderabad</th>\n",
    "<th>Availability</th>\n",
    "</tr>\n",
    "\n",
    "<tr>\n",
    "<td>Delhi</td>\n",
    "<td>5</td>\n",
    "<td>3</td>\n",
    "<td>2</td>\n",
    "<td>6</td>\n",
    "<td>1700</td>\n",
    "</tr>\n",
    "\n",
    "<tr>\n",
    "<td>Dehradun</td>\n",
    "<td>4</td>\n",
    "<td>7</td>\n",
    "<td>8</td>\n",
    "<td>10</td>\n",
    "<td>2000</td>\n",
    "</tr>\n",
    "    \n",
    "<tr>\n",
    "<td>Chandigarh</td>\n",
    "<td>6</td>\n",
    "<td>5</td>\n",
    "<td>3</td>\n",
    "<td>8</td>\n",
    "<td>1700</td>\n",
    "</tr>\n",
    "\n",
    "    \n",
    "<tr>\n",
    "<td>Indore</td>\n",
    "<td>9</td>\n",
    "<td>8</td>\n",
    "<td>6</td>\n",
    "<td>5</td>\n",
    "<td>2000</td>\n",
    "</tr>\n",
    "    \n",
    "<tr>\n",
    "<td>Demand</td>\n",
    "<td>1700</td>\n",
    "<td>1000</td>\n",
    "<td>1500</td>\n",
    "<td>1200</td>\n",
    "</tr> \n",
    "</table>"
   ]
  },
  {
   "cell_type": "code",
   "execution_count": 7,
   "metadata": {},
   "outputs": [],
   "source": [
    "# Import PuLP module\n",
    "from pulp import *"
   ]
  },
  {
   "cell_type": "code",
   "execution_count": 8,
   "metadata": {},
   "outputs": [],
   "source": [
    "# List of all the origin nodes\n",
    "Plants = [\"Delhi\",\n",
    "          \"Dehradun\",\n",
    "          \"Chandigarh\",\n",
    "          \"Indore\"]\n",
    "\n",
    "# Dictionary for the number of units of supply available at each origin node\n",
    "supplyData = { # key: origin, value: availability\n",
    "          \"Delhi\": 1700,\n",
    "          \"Dehradun\": 2000,\n",
    "          \"Chandigarh\": 1700,\n",
    "          \"Indore\": 2000\n",
    "          }\n",
    "\n",
    "# List of all destination nodes\n",
    "Stores = [\"Lucknow\",\n",
    "          \"Gandhinagar\",\n",
    "          \"Bhopal\",\n",
    "          \"Hyderabad\"]\n",
    "\n",
    "# Dictionary for the number of units of demand at each destination\n",
    "demand = { # key: Destination, value: Demand\n",
    "          \"Lucknow\": 1700,\n",
    "          \"Gandhinagar\": 1000,\n",
    "          \"Bhopal\": 1500,\n",
    "          \"Hyderabad\": 1200\n",
    "          }\n",
    "\n",
    "# List of costs for 1 unit for each transportation path\n",
    "costs = [  #Destination\n",
    "         #LK GN BP HY\n",
    "         [5, 3, 2, 6], #DL\n",
    "         [4, 7, 8, 10],#DH    Origin\n",
    "         [6, 5, 3, 8], #CH\n",
    "         [9, 8, 6, 5]  #IN         \n",
    "         ]"
   ]
  },
  {
   "cell_type": "code",
   "execution_count": 9,
   "metadata": {},
   "outputs": [],
   "source": [
    "# List of tuples containing all the possible routes for transport\n",
    "Routes = [(p,s) for p in Plants for s in Stores]\n",
    "\n",
    "# Store supplyData into new supply dictionary\n",
    "supply = supplyData\n",
    "\n",
    "# Convert cost data is made into a dictionary\n",
    "costs = makeDict([Plants,Stores],costs,0)"
   ]
  },
  {
   "cell_type": "code",
   "execution_count": 10,
   "metadata": {},
   "outputs": [],
   "source": [
    "# Creates the problem variables of the Flow on the nodes connecting origin and destiantion\n",
    "flow = LpVariable.dicts(\"Route\",(Plants,Stores),0,None,LpInteger)\n",
    "\n",
    "# Creates the 'transportationProblem porb' variable to contain the problem data\n",
    "prob = LpProblem(\"Computer Transportation Problem\")\n",
    "\n",
    "# The objective function is added to prob - The sum of the transportation costs\n",
    "prob += lpSum([flow[p][s]*costs[p][s] for (p,s) in Routes])\n",
    "\n",
    "# The Supply maximum constraints are added for each supply node (origin)\n",
    "for p in Plants:\n",
    "    prob += lpSum([flow[p][s] for s in Stores])<=supply[p]\n",
    "\n",
    "# The Demand minimum constraints are added for each demand node (demand)\n",
    "for s in Stores:\n",
    "    prob += lpSum([flow[p][s] for p in Plants])>=demand[s]"
   ]
  },
  {
   "cell_type": "code",
   "execution_count": 11,
   "metadata": {},
   "outputs": [
    {
     "name": "stdout",
     "output_type": "stream",
     "text": [
      "Status: Optimal\n",
      "Total Costs =  19600.0\n"
     ]
    }
   ],
   "source": [
    "# The problem is solved using PuLP's choice of Solver\n",
    "prob.solve()\n",
    "\n",
    "# Print the status of solution\n",
    "print(\"Status:\", LpStatus[prob.status])\n",
    "\n",
    "# Print the optimised objective function value    \n",
    "print(\"Total Costs = \", value(prob.objective))"
   ]
  },
  {
   "cell_type": "code",
   "execution_count": null,
   "metadata": {},
   "outputs": [],
   "source": []
  },
  {
   "cell_type": "code",
   "execution_count": null,
   "metadata": {},
   "outputs": [],
   "source": []
  }
 ],
 "metadata": {
  "kernelspec": {
   "display_name": "Python 3",
   "language": "python",
   "name": "python3"
  },
  "language_info": {
   "codemirror_mode": {
    "name": "ipython",
    "version": 3
   },
   "file_extension": ".py",
   "mimetype": "text/x-python",
   "name": "python",
   "nbconvert_exporter": "python",
   "pygments_lexer": "ipython3",
   "version": "3.7.7"
  }
 },
 "nbformat": 4,
 "nbformat_minor": 4
}
